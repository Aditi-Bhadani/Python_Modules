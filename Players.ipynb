{
  "nbformat": 4,
  "nbformat_minor": 0,
  "metadata": {
    "colab": {
      "provenance": []
    },
    "kernelspec": {
      "name": "python3",
      "display_name": "Python 3"
    },
    "language_info": {
      "name": "python"
    }
  },
  "cells": [
    {
      "cell_type": "code",
      "execution_count": 25,
      "metadata": {
        "id": "Zc9EUj6-sZfe"
      },
      "outputs": [],
      "source": [
        "import random"
      ]
    },
    {
      "cell_type": "code",
      "source": [
        "print(\"##### WELCOME TO PLAYING 11 #####\")\n",
        "print(\"________________________________________________________________________________________________________________________________\")\n",
        "print(\"NOTE: Total team is having 22 players, Out of which there will be 8 batters, 4 all rounders, 8 bowlers and only 2 wicket keepers.\\nKindly give the inputs accordingly.\")\n"
      ],
      "metadata": {
        "colab": {
          "base_uri": "https://localhost:8080/"
        },
        "id": "pMGE4Zv3z4vk",
        "outputId": "69674422-988e-4f9c-bf52-36f3d2b1e08d"
      },
      "execution_count": 26,
      "outputs": [
        {
          "output_type": "stream",
          "name": "stdout",
          "text": [
            "##### WELCOME TO PLAYING 11 #####\n",
            "________________________________________________________________________________________________________________________________\n",
            "NOTE: Total team is having 22 players, Out of which there will be 8 batters, 4 all rounders, 8 bowlers and only 2 wicket keepers.\n",
            "Kindly give the inputs accordingly.\n"
          ]
        }
      ]
    },
    {
      "cell_type": "code",
      "source": [
        "bat=[]\n",
        "print(\"Taking inputs for 8 Batsman:\")\n",
        "for i in range(1,9):\n",
        "  print(\"Enter the name of Batsman no.\",i,end='  ')\n",
        "  bat.append(input())\n",
        "print(\"____________________________________________\")\n",
        "inp_bat=[]\n",
        "for i in bat:\n",
        "  inp_bat.append(i)"
      ],
      "metadata": {
        "colab": {
          "base_uri": "https://localhost:8080/"
        },
        "id": "0inWsQIw0WBT",
        "outputId": "47aba4e4-d396-4e56-d77e-2038fbdc6c35"
      },
      "execution_count": 39,
      "outputs": [
        {
          "output_type": "stream",
          "name": "stdout",
          "text": [
            "Taking inputs for 8 Batsman:\n",
            "Enter the name of Batsman no. 1  a\n",
            "Enter the name of Batsman no. 2  b\n",
            "Enter the name of Batsman no. 3  c\n",
            "Enter the name of Batsman no. 4  d\n",
            "Enter the name of Batsman no. 5  e\n",
            "Enter the name of Batsman no. 6  f\n",
            "Enter the name of Batsman no. 7  g\n",
            "Enter the name of Batsman no. 8  h\n",
            "____________________________________________\n"
          ]
        }
      ]
    },
    {
      "cell_type": "code",
      "source": [
        "bowl=[]\n",
        "print(\"Taking inputs for 8 Bowlers:\")\n",
        "for i in range(1,9):\n",
        "  print(\"Enter the name of Bowlers no.\",i,end='  ')\n",
        "  bowl.append(input())\n",
        "print(\"____________________________________________\")\n",
        "inp_bowl=[]\n",
        "for i in bowl:\n",
        "  inp_bowl.append(i)"
      ],
      "metadata": {
        "colab": {
          "base_uri": "https://localhost:8080/"
        },
        "id": "GB6ZTAOA1P1f",
        "outputId": "0fca5533-9c65-4f3b-82b8-d4d5b2ac0c68"
      },
      "execution_count": 40,
      "outputs": [
        {
          "output_type": "stream",
          "name": "stdout",
          "text": [
            "Taking inputs for 8 Bowlers:\n",
            "Enter the name of Bowlers no. 1  i\n",
            "Enter the name of Bowlers no. 2  j\n",
            "Enter the name of Bowlers no. 3  k\n",
            "Enter the name of Bowlers no. 4  l\n",
            "Enter the name of Bowlers no. 5  m\n",
            "Enter the name of Bowlers no. 6  n\n",
            "Enter the name of Bowlers no. 7  o\n",
            "Enter the name of Bowlers no. 8  p\n",
            "____________________________________________\n"
          ]
        }
      ]
    },
    {
      "cell_type": "code",
      "source": [
        "all=[]\n",
        "print(\"Taking inputs for 4 All-Rounders:\")\n",
        "for i in range(1,5):\n",
        "  print(\"Enter the name of All-Rounder no.\",i,end='  ')\n",
        "  all.append(input())\n",
        "print(\"____________________________________________\")\n",
        "inp_all=[]\n",
        "for i in all:\n",
        "  inp_all.append(i)"
      ],
      "metadata": {
        "colab": {
          "base_uri": "https://localhost:8080/"
        },
        "id": "b7Frfuip1yNB",
        "outputId": "d2b64f9b-99b0-4e91-bb4b-3ccfc0395935"
      },
      "execution_count": 41,
      "outputs": [
        {
          "output_type": "stream",
          "name": "stdout",
          "text": [
            "Taking inputs for 4 All-Rounders:\n",
            "Enter the name of All-Rounder no. 1  q\n",
            "Enter the name of All-Rounder no. 2  r\n",
            "Enter the name of All-Rounder no. 3  s\n",
            "Enter the name of All-Rounder no. 4  t\n",
            "____________________________________________\n"
          ]
        }
      ]
    },
    {
      "cell_type": "code",
      "source": [
        "keep=[]\n",
        "print(\"Taking inputs for 2 Wicket Keeper:\")\n",
        "for i in range(1,3):\n",
        "  print(\"Enter the name of Wicket Keeper no.\",i,end='  ')\n",
        "  keep.append(input())\n",
        "print(\"____________________________________________\")\n",
        "inp_keep=[]\n",
        "for i in keep:\n",
        "  inp_keep.append(i)"
      ],
      "metadata": {
        "colab": {
          "base_uri": "https://localhost:8080/"
        },
        "id": "VG5olQwq2GpX",
        "outputId": "35cd7c02-b22b-4919-827c-a26f2a56a747"
      },
      "execution_count": 57,
      "outputs": [
        {
          "output_type": "stream",
          "name": "stdout",
          "text": [
            "Taking inputs for 2 Wicket Keeper:\n",
            "Enter the name of Wicket Keeper no. 1  u\n",
            "Enter the name of Wicket Keeper no. 2  v\n",
            "____________________________________________\n"
          ]
        }
      ]
    },
    {
      "cell_type": "code",
      "source": [
        "final_bat=[]\n",
        "for i in range(int(len(bat)/2)):\n",
        "  final_bat.append(inp_bat[random.randint(0,len(inp_bat)-1)])\n",
        "  inp_bat.remove(final_bat[-1])\n",
        "#print(final_bat)\n",
        "#print(inp_bat)"
      ],
      "metadata": {
        "id": "UFgJudHK2Y6r"
      },
      "execution_count": 58,
      "outputs": []
    },
    {
      "cell_type": "code",
      "source": [
        "final_bowl=[]\n",
        "for i in range(int(len(bowl)/2)):\n",
        "  final_bowl.append(inp_bowl[random.randint(0,len(inp_bowl)-1)])\n",
        "  inp_bowl.remove(final_bowl[-1])\n",
        "#print(final_bowl)\n",
        "#print(inp_bowl)"
      ],
      "metadata": {
        "id": "zpJHXTSn3FBX"
      },
      "execution_count": 59,
      "outputs": []
    },
    {
      "cell_type": "code",
      "source": [
        "final_all=[]\n",
        "for i in range(int(len(all)/2)):\n",
        "  final_all.append(inp_all[random.randint(0,len(inp_all)-1)])\n",
        "  inp_all.remove(final_all[-1])\n",
        "#print(final_all)\n",
        "#print(inp_all)"
      ],
      "metadata": {
        "id": "QPjOVJ3V5l1w"
      },
      "execution_count": 60,
      "outputs": []
    },
    {
      "cell_type": "code",
      "source": [
        "final_keep=[]\n",
        "for i in range(int(len(keep)/2)):\n",
        "  final_keep.append(inp_keep[random.randint(0,len(inp_keep)-1)])\n",
        "  inp_keep.remove(final_keep[-1])\n",
        "#print(final_keep)\n",
        "#print(inp_keep)"
      ],
      "metadata": {
        "id": "EnJVAN5m53yX"
      },
      "execution_count": 61,
      "outputs": []
    },
    {
      "cell_type": "code",
      "source": [
        "print(\"Team provided by the user is given below:\")\n",
        "print(\"____________________________________________\")\n",
        "print(\"Batters:\")\n",
        "for i in bat:\n",
        "  print(i,end=\" \")\n",
        "print(\"\")\n",
        "print(\"____________________________________________\")\n",
        "print(\"Bowlers:\")\n",
        "for i in bowl:\n",
        "  print(i,end=\" \")\n",
        "print(\"\")\n",
        "print(\"____________________________________________\")\n",
        "print(\"All Rounders:\")\n",
        "for i in all:\n",
        "  print(i,end=\" \")\n",
        "print(\"\")\n",
        "print(\"____________________________________________\")\n",
        "print(\"Wicket Keepers:\")\n",
        "for i in keep:\n",
        "  print(i,end=\" \")\n",
        "print(\"\")\n",
        "print(\"____________________________________________\")"
      ],
      "metadata": {
        "colab": {
          "base_uri": "https://localhost:8080/"
        },
        "id": "vbkPREeL6G3j",
        "outputId": "b9838613-e96b-4fe2-d518-a8892ba91f33"
      },
      "execution_count": 63,
      "outputs": [
        {
          "output_type": "stream",
          "name": "stdout",
          "text": [
            "Team provided by the user is given below:\n",
            "____________________________________________\n",
            "Batters:\n",
            "a b c d e f g h \n",
            "____________________________________________\n",
            "Bowlers:\n",
            "i j k l m n o p \n",
            "____________________________________________\n",
            "All Rounders:\n",
            "q r s t \n",
            "____________________________________________\n",
            "Wicket Keepers:\n",
            "u v \n",
            "____________________________________________\n"
          ]
        }
      ]
    },
    {
      "cell_type": "code",
      "source": [
        "print(\"Team suggested by the coder is given below:\")\n",
        "print(\"____________________________________________\")\n",
        "print(\"Batters:\")\n",
        "for i in final_bat:\n",
        "  print(i,end=\" \")\n",
        "print(\"\")\n",
        "print(\"____________________________________________\")\n",
        "print(\"Bowlers:\")\n",
        "for i in final_bowl:\n",
        "  print(i,end=\" \")\n",
        "print(\"\")\n",
        "print(\"____________________________________________\")\n",
        "print(\"All Rounders:\")\n",
        "for i in final_all:\n",
        "  print(i,end=\" \")\n",
        "print(\"\")\n",
        "print(\"____________________________________________\")\n",
        "print(\"Wicket Keepers:\")\n",
        "for i in final_keep:\n",
        "  print(i,end=\" \")\n",
        "print(\"\")\n",
        "print(\"____________________________________________\")"
      ],
      "metadata": {
        "colab": {
          "base_uri": "https://localhost:8080/"
        },
        "id": "_wQoxUP361TZ",
        "outputId": "e604df18-3745-4a4f-c27e-62da5b813e97"
      },
      "execution_count": 64,
      "outputs": [
        {
          "output_type": "stream",
          "name": "stdout",
          "text": [
            "Team suggested by the coder is given below:\n",
            "____________________________________________\n",
            "Batters:\n",
            "f a e h \n",
            "____________________________________________\n",
            "Bowlers:\n",
            "j o p l \n",
            "____________________________________________\n",
            "All Rounders:\n",
            "r t \n",
            "____________________________________________\n",
            "Wicket Keepers:\n",
            "v \n",
            "____________________________________________\n"
          ]
        }
      ]
    },
    {
      "cell_type": "code",
      "source": [],
      "metadata": {
        "id": "Z9nPwVQQ79k3"
      },
      "execution_count": null,
      "outputs": []
    }
  ]
}